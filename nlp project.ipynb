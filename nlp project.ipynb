{
 "cells": [
  {
   "cell_type": "code",
   "execution_count": 15,
   "id": "9c43a12f-67c6-4d56-a982-affc14ab696f",
   "metadata": {},
   "outputs": [
    {
     "name": "stdout",
     "output_type": "stream",
     "text": [
      "2.16.1\n"
     ]
    }
   ],
   "source": [
    "import tensorflow as tf\n",
    "print(tf.__version__)"
   ]
  },
  {
   "cell_type": "code",
   "execution_count": 16,
   "id": "51037567-c9a9-402e-b504-b69cd86cc9dc",
   "metadata": {},
   "outputs": [],
   "source": [
    "##tensorflow >2.0\n",
    "from tensorflow.keras.preprocessing.text import one_hot"
   ]
  },
  {
   "cell_type": "code",
   "execution_count": 17,
   "id": "2f866968-f3e4-428a-90f8-22f292cbe0ba",
   "metadata": {},
   "outputs": [],
   "source": [
    "### some sentences\n",
    "sent=[  'the glass of milk',\n",
    "     'the glass of juice',\n",
    "     'the cup of tea',\n",
    "    'I am a good boy',\n",
    "     'I am a good developer',\n",
    "     'understand the meaning of words',\n",
    "     'your videos are good']"
   ]
  },
  {
   "cell_type": "code",
   "execution_count": 18,
   "id": "85ba362a-b55a-4049-8fad-57f3ce3045b1",
   "metadata": {},
   "outputs": [
    {
     "data": {
      "text/plain": [
       "['the glass of milk',\n",
       " 'the glass of juice',\n",
       " 'the cup of tea',\n",
       " 'I am a good boy',\n",
       " 'I am a good developer',\n",
       " 'understand the meaning of words',\n",
       " 'your videos are good']"
      ]
     },
     "execution_count": 18,
     "metadata": {},
     "output_type": "execute_result"
    }
   ],
   "source": [
    "sent"
   ]
  },
  {
   "cell_type": "markdown",
   "id": "761a46db-784c-4515-85ce-41af562fe96e",
   "metadata": {},
   "source": [
    "### 1. ONE HOT ENCODING "
   ]
  },
  {
   "cell_type": "code",
   "execution_count": 39,
   "id": "55c803fa-38db-4096-abbe-f16992b6df33",
   "metadata": {},
   "outputs": [],
   "source": [
    "#  in order to convert sentences to vectors, we have to initialize vocabulary size (it is a hyper parameter)\n",
    "voc_size = 10000 # vocab size can be anything\n",
    "# increasing in vocab size qill take processing time more\n"
   ]
  },
  {
   "cell_type": "code",
   "execution_count": 40,
   "id": "d3cd3e78-2f3e-4dc8-aba7-24fc1b54ddeb",
   "metadata": {},
   "outputs": [
    {
     "name": "stdout",
     "output_type": "stream",
     "text": [
      "[[5064, 9367, 7664, 3695], [5064, 9367, 7664, 6406], [5064, 9586, 7664, 5648], [8472, 1045, 8693, 7400, 3812], [8472, 1045, 8693, 7400, 9405], [3426, 5064, 8061, 7664, 5475], [7704, 2853, 3054, 7400]]\n"
     ]
    }
   ],
   "source": [
    "onehot_rep = [one_hot(words, voc_size) for words in sent]\n",
    "print (onehot_rep)"
   ]
  },
  {
   "cell_type": "markdown",
   "id": "16b660fc-5714-4f38-a6f7-cb51e1d13a7e",
   "metadata": {},
   "source": [
    "### Word Embedding Representation"
   ]
  },
  {
   "cell_type": "markdown",
   "id": "f5aba45e-2da4-4703-85e8-bb3e5a00d321",
   "metadata": {},
   "source": [
    "### 2. Post Padding\n",
    "pad sequence will do: all the vectors , it will make it equal length"
   ]
  },
  {
   "cell_type": "code",
   "execution_count": 41,
   "id": "7d292540-76ef-42e7-844c-bfb3f8df3d48",
   "metadata": {},
   "outputs": [],
   "source": [
    "from tensorflow.keras.layers import Embedding\n",
    "from tensorflow.keras.preprocessing.sequence import pad_sequences\n",
    "from tensorflow.keras.models import Sequential"
   ]
  },
  {
   "cell_type": "code",
   "execution_count": 42,
   "id": "8eb94833-95e1-4a91-8e5a-fad91e3f1adb",
   "metadata": {},
   "outputs": [],
   "source": [
    "import numpy as np"
   ]
  },
  {
   "cell_type": "code",
   "execution_count": 43,
   "id": "cc2f244f-f221-4448-a6c8-e17ba2937040",
   "metadata": {},
   "outputs": [
    {
     "name": "stdout",
     "output_type": "stream",
     "text": [
      "[[   0    0    0    0 5064 9367 7664 3695]\n",
      " [   0    0    0    0 5064 9367 7664 6406]\n",
      " [   0    0    0    0 5064 9586 7664 5648]\n",
      " [   0    0    0 8472 1045 8693 7400 3812]\n",
      " [   0    0    0 8472 1045 8693 7400 9405]\n",
      " [   0    0    0 3426 5064 8061 7664 5475]\n",
      " [   0    0    0    0 7704 2853 3054 7400]]\n"
     ]
    }
   ],
   "source": [
    "## we need to make length of all sentences same.\n",
    "## let us assume the max sentence length be 8 (padding saequence: adding zeros at last or at the first)\n",
    "max_sentence_len = 8\n",
    "embeded_docs = pad_sequences(onehot_rep, padding = 'pre', maxlen = max_sentence_len)  # see more about this function-->'pre', 'post'\n",
    "print(embeded_docs)"
   ]
  },
  {
   "cell_type": "code",
   "execution_count": 44,
   "id": "376249cc-c73f-455e-97a1-dfd6221dcd51",
   "metadata": {},
   "outputs": [],
   "source": [
    "# 10 featuire dimensions\n",
    "dim = 10"
   ]
  },
  {
   "cell_type": "code",
   "execution_count": 45,
   "id": "0b2f852c-9b0d-441e-9d1c-9d290845755f",
   "metadata": {},
   "outputs": [],
   "source": [
    "model = Sequential()\n",
    "model.add(Embedding(voc_size, 10, input_length = max_sentence_len))\n",
    "model.compile('adam','mse')"
   ]
  },
  {
   "cell_type": "code",
   "execution_count": 46,
   "id": "b7c8c5ff-ac26-479f-8bcc-6da8f2fb560b",
   "metadata": {},
   "outputs": [
    {
     "data": {
      "text/html": [
       "<pre style=\"white-space:pre;overflow-x:auto;line-height:normal;font-family:Menlo,'DejaVu Sans Mono',consolas,'Courier New',monospace\"><span style=\"font-weight: bold\">Model: \"sequential_3\"</span>\n",
       "</pre>\n"
      ],
      "text/plain": [
       "\u001b[1mModel: \"sequential_3\"\u001b[0m\n"
      ]
     },
     "metadata": {},
     "output_type": "display_data"
    },
    {
     "data": {
      "text/html": [
       "<pre style=\"white-space:pre;overflow-x:auto;line-height:normal;font-family:Menlo,'DejaVu Sans Mono',consolas,'Courier New',monospace\">┏━━━━━━━━━━━━━━━━━━━━━━━━━━━━━━━━━━━━━━┳━━━━━━━━━━━━━━━━━━━━━━━━━━━━━┳━━━━━━━━━━━━━━━━━┓\n",
       "┃<span style=\"font-weight: bold\"> Layer (type)                         </span>┃<span style=\"font-weight: bold\"> Output Shape                </span>┃<span style=\"font-weight: bold\">         Param # </span>┃\n",
       "┡━━━━━━━━━━━━━━━━━━━━━━━━━━━━━━━━━━━━━━╇━━━━━━━━━━━━━━━━━━━━━━━━━━━━━╇━━━━━━━━━━━━━━━━━┩\n",
       "│ embedding_2 (<span style=\"color: #0087ff; text-decoration-color: #0087ff\">Embedding</span>)              │ ?                           │     <span style=\"color: #00af00; text-decoration-color: #00af00\">0</span> (unbuilt) │\n",
       "└──────────────────────────────────────┴─────────────────────────────┴─────────────────┘\n",
       "</pre>\n"
      ],
      "text/plain": [
       "┏━━━━━━━━━━━━━━━━━━━━━━━━━━━━━━━━━━━━━━┳━━━━━━━━━━━━━━━━━━━━━━━━━━━━━┳━━━━━━━━━━━━━━━━━┓\n",
       "┃\u001b[1m \u001b[0m\u001b[1mLayer (type)                        \u001b[0m\u001b[1m \u001b[0m┃\u001b[1m \u001b[0m\u001b[1mOutput Shape               \u001b[0m\u001b[1m \u001b[0m┃\u001b[1m \u001b[0m\u001b[1m        Param #\u001b[0m\u001b[1m \u001b[0m┃\n",
       "┡━━━━━━━━━━━━━━━━━━━━━━━━━━━━━━━━━━━━━━╇━━━━━━━━━━━━━━━━━━━━━━━━━━━━━╇━━━━━━━━━━━━━━━━━┩\n",
       "│ embedding_2 (\u001b[38;5;33mEmbedding\u001b[0m)              │ ?                           │     \u001b[38;5;34m0\u001b[0m (unbuilt) │\n",
       "└──────────────────────────────────────┴─────────────────────────────┴─────────────────┘\n"
      ]
     },
     "metadata": {},
     "output_type": "display_data"
    },
    {
     "data": {
      "text/html": [
       "<pre style=\"white-space:pre;overflow-x:auto;line-height:normal;font-family:Menlo,'DejaVu Sans Mono',consolas,'Courier New',monospace\"><span style=\"font-weight: bold\"> Total params: </span><span style=\"color: #00af00; text-decoration-color: #00af00\">0</span> (0.00 B)\n",
       "</pre>\n"
      ],
      "text/plain": [
       "\u001b[1m Total params: \u001b[0m\u001b[38;5;34m0\u001b[0m (0.00 B)\n"
      ]
     },
     "metadata": {},
     "output_type": "display_data"
    },
    {
     "data": {
      "text/html": [
       "<pre style=\"white-space:pre;overflow-x:auto;line-height:normal;font-family:Menlo,'DejaVu Sans Mono',consolas,'Courier New',monospace\"><span style=\"font-weight: bold\"> Trainable params: </span><span style=\"color: #00af00; text-decoration-color: #00af00\">0</span> (0.00 B)\n",
       "</pre>\n"
      ],
      "text/plain": [
       "\u001b[1m Trainable params: \u001b[0m\u001b[38;5;34m0\u001b[0m (0.00 B)\n"
      ]
     },
     "metadata": {},
     "output_type": "display_data"
    },
    {
     "data": {
      "text/html": [
       "<pre style=\"white-space:pre;overflow-x:auto;line-height:normal;font-family:Menlo,'DejaVu Sans Mono',consolas,'Courier New',monospace\"><span style=\"font-weight: bold\"> Non-trainable params: </span><span style=\"color: #00af00; text-decoration-color: #00af00\">0</span> (0.00 B)\n",
       "</pre>\n"
      ],
      "text/plain": [
       "\u001b[1m Non-trainable params: \u001b[0m\u001b[38;5;34m0\u001b[0m (0.00 B)\n"
      ]
     },
     "metadata": {},
     "output_type": "display_data"
    }
   ],
   "source": [
    "model.summary()"
   ]
  },
  {
   "cell_type": "code",
   "execution_count": 50,
   "id": "0d61fb50-a88d-4671-95b1-b6bc5dadc176",
   "metadata": {},
   "outputs": [
    {
     "data": {
      "text/plain": [
       "array([   0,    0,    0,    0, 5064, 9367, 7664, 3695])"
      ]
     },
     "execution_count": 50,
     "metadata": {},
     "output_type": "execute_result"
    }
   ],
   "source": [
    " embeded_docs[0]  # first sentence"
   ]
  },
  {
   "cell_type": "code",
   "execution_count": 49,
   "id": "ddcc1307-8f29-43f3-bb52-65340f820373",
   "metadata": {},
   "outputs": [
    {
     "name": "stdout",
     "output_type": "stream",
     "text": [
      "\u001b[1m1/1\u001b[0m \u001b[32m━━━━━━━━━━━━━━━━━━━━\u001b[0m\u001b[37m\u001b[0m \u001b[1m0s\u001b[0m 425ms/step\n"
     ]
    },
    {
     "data": {
      "text/plain": [
       "array([[-0.04668647, -0.01064118,  0.02858592, -0.00982483, -0.01446036,\n",
       "        -0.00809491,  0.00784592,  0.00967282, -0.03606101, -0.02050449],\n",
       "       [-0.04668647, -0.01064118,  0.02858592, -0.00982483, -0.01446036,\n",
       "        -0.00809491,  0.00784592,  0.00967282, -0.03606101, -0.02050449],\n",
       "       [-0.04668647, -0.01064118,  0.02858592, -0.00982483, -0.01446036,\n",
       "        -0.00809491,  0.00784592,  0.00967282, -0.03606101, -0.02050449],\n",
       "       [-0.04668647, -0.01064118,  0.02858592, -0.00982483, -0.01446036,\n",
       "        -0.00809491,  0.00784592,  0.00967282, -0.03606101, -0.02050449],\n",
       "       [ 0.01222362, -0.01512231, -0.04780462,  0.01302919, -0.04667025,\n",
       "         0.04856647, -0.04615533,  0.00501518,  0.0349838 ,  0.03685833],\n",
       "       [ 0.0412568 ,  0.01980566, -0.03875377, -0.01291258, -0.01834012,\n",
       "         0.02275516,  0.01322177, -0.02994998,  0.04160792, -0.00084656],\n",
       "       [ 0.02573438,  0.01324404, -0.04689125, -0.04379712, -0.02408981,\n",
       "         0.03460547, -0.04018555,  0.0442105 ,  0.04643554, -0.00339464],\n",
       "       [-0.00716389, -0.00960392,  0.00128496,  0.02662719,  0.01566786,\n",
       "        -0.00231276,  0.03548541,  0.00550427, -0.02395548, -0.00048761]],\n",
       "      dtype=float32)"
      ]
     },
     "execution_count": 49,
     "metadata": {},
     "output_type": "execute_result"
    }
   ],
   "source": [
    "model.predict(embeded_docs[0]) # every vector in first sentence is represented by another vector"
   ]
  },
  {
   "cell_type": "code",
   "execution_count": null,
   "id": "80b49cad-83b2-43a0-a199-5a068be84c0d",
   "metadata": {},
   "outputs": [],
   "source": []
  }
 ],
 "metadata": {
  "kernelspec": {
   "display_name": "Python 3 (ipykernel)",
   "language": "python",
   "name": "python3"
  },
  "language_info": {
   "codemirror_mode": {
    "name": "ipython",
    "version": 3
   },
   "file_extension": ".py",
   "mimetype": "text/x-python",
   "name": "python",
   "nbconvert_exporter": "python",
   "pygments_lexer": "ipython3",
   "version": "3.11.7"
  }
 },
 "nbformat": 4,
 "nbformat_minor": 5
}
